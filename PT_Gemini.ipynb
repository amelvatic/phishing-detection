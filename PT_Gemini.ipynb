{
  "cells": [
    {
      "cell_type": "code",
      "execution_count": 1,
      "metadata": {
        "id": "7tri-_JPfr6U"
      },
      "outputs": [],
      "source": [
        "%pip install -U -q 'google-generativeai>=0.8.3'"
      ]
    },
    {
      "cell_type": "code",
      "execution_count": 2,
      "metadata": {
        "id": "FpyM2lv1fzlS"
      },
      "outputs": [],
      "source": [
        "import google.generativeai as genai\n",
        "import pandas as pd\n",
        "from sklearn.model_selection import train_test_split"
      ]
    },
    {
      "cell_type": "code",
      "execution_count": 3,
      "metadata": {
        "id": "tynXzk2jf51r"
      },
      "outputs": [],
      "source": [
        "GOOGLE_API_KEY = \"<key>\"\n",
        "genai.configure(api_key=GOOGLE_API_KEY)"
      ]
    },
    {
      "cell_type": "code",
      "execution_count": null,
      "metadata": {
        "colab": {
          "base_uri": "https://localhost:8080/",
          "height": 53
        },
        "id": "TEUJNT5Df9Mb",
        "outputId": "98becc35-d9fd-4427-9ffd-adbba31dfb87"
      },
      "outputs": [],
      "source": [
        "for model in genai.list_models():\n",
        "    if \"createTunedModel\" in model.supported_generation_methods:\n",
        "        print(model.name)"
      ]
    },
    {
      "cell_type": "code",
      "execution_count": null,
      "metadata": {
        "colab": {
          "base_uri": "https://localhost:8080/",
          "height": 124
        },
        "id": "CGSGq6RLGmco",
        "outputId": "94e93368-726a-41ff-a668-bb8c39ea4bc4"
      },
      "outputs": [],
      "source": [
        "for model_info in genai.list_tuned_models():\n",
        "    print(model_info.name)"
      ]
    },
    {
      "cell_type": "code",
      "execution_count": null,
      "metadata": {
        "colab": {
          "base_uri": "https://localhost:8080/",
          "height": 424
        },
        "id": "qJLYNpy3gr0h",
        "outputId": "d903d263-dda5-4e82-890b-4596b485206e"
      },
      "outputs": [],
      "source": [
        "df = pd.read_csv('Phishing_Email.csv', index_col=0)\n",
        "df=df.dropna()\n",
        "train, test = train_test_split(df, test_size=0.2)\n",
        "test"
      ]
    },
    {
      "cell_type": "code",
      "execution_count": 19,
      "metadata": {
        "id": "w0EY3tyohkRN"
      },
      "outputs": [],
      "source": [
        "from google.api_core import retry\n",
        "\n",
        "baseline_model = genai.GenerativeModel(\"gemini-1.5-flash-001\")\n",
        "\n",
        "system_instruct = \"\"\"\n",
        "You are a classification service. You will be passed input that represents\n",
        "an email and you must respond with whether the email is safe or if it is a Phishing Email. The output should be either 'Safe Email' or 'Phishinh Email'.\n",
        "\"\"\"\n",
        "\n",
        "instructed_model = genai.GenerativeModel(\"gemini-1.5-flash-001\", system_instruction=system_instruct)\n",
        "\n",
        "retry_policy = {\"retry\": retry.Retry(predicate=retry.if_transient_error)}\n",
        "\n",
        "def predict_label(post: str) -> str:\n",
        "    response = instructed_model.generate_content(post, request_options=retry_policy)\n",
        "    rc = response.candidates[0]\n",
        "\n",
        "    if rc.finish_reason.name != \"STOP\":\n",
        "        return \"(error)\"\n",
        "    else:\n",
        "        return response.text.strip()"
      ]
    },
    {
      "cell_type": "code",
      "execution_count": null,
      "metadata": {
        "colab": {
          "base_uri": "https://localhost:8080/",
          "height": 624,
          "referenced_widgets": [
            "4ea7cc6164234563bb97a8d9b9a14787",
            "742920bd29384445b1fd550db78555b7"
          ]
        },
        "id": "PjsMLKWD2foW",
        "outputId": "e88d84c8-38e1-4143-8729-206a6fd5eb39"
      },
      "outputs": [],
      "source": [
        "from tqdm.rich import tqdm\n",
        "tqdm.pandas()\n",
        "\n",
        "df_baseline_eval = test.sample(64)\n",
        "\n",
        "df_baseline_eval['Prediction'] = df_baseline_eval['Email Text'].progress_apply(predict_label)\n",
        "\n",
        "accuracy = (df_baseline_eval[\"Email Type\"] == df_baseline_eval[\"Prediction\"]).sum() / len(df_baseline_eval)\n",
        "print(f\"Accuracy: {accuracy:.2%}\")"
      ]
    },
    {
      "cell_type": "code",
      "execution_count": null,
      "metadata": {
        "colab": {
          "base_uri": "https://localhost:8080/"
        },
        "id": "gp3o3DYJns8r",
        "outputId": "f14a8fcd-18c6-46ba-92a0-69db4c0ab2d0"
      },
      "outputs": [],
      "source": [
        "TP = ((df_baseline_eval[\"Email Type\"] == \"Phishing Email\") & (df_baseline_eval[\"Prediction\"] == \"Phishing Email\")).sum()\n",
        "TN = ((df_baseline_eval[\"Email Type\"] == \"Safe Email\") & (df_baseline_eval[\"Prediction\"] == \"Safe Email\")).sum()\n",
        "FP = ((df_baseline_eval[\"Email Type\"] == \"Safe Email\") & (df_baseline_eval[\"Prediction\"] == \"Phishing Email\")).sum()\n",
        "FN = ((df_baseline_eval[\"Email Type\"] == \"Phishing Email\") & (df_baseline_eval[\"Prediction\"] == \"Safe Email\")).sum()\n",
        "\n",
        "precision = TP / (TP + FP)\n",
        "recall = TP / (TP + FN)\n",
        "f1_score = 2 * (precision * recall) / (precision + recall)\n",
        "accuracy = (df_baseline_eval[\"Email Type\"] == df_baseline_eval[\"Prediction\"]).sum() / len(df_baseline_eval)\n",
        "\n",
        "print(f\"Accuracy: {accuracy:.2%}\")\n",
        "print(f\"precision: {precision:.2%}\")\n",
        "print(f\"recall: {recall:.2%}\")\n",
        "print(f\"f1_score: {f1_score}\")"
      ]
    },
    {
      "cell_type": "code",
      "execution_count": null,
      "metadata": {
        "colab": {
          "base_uri": "https://localhost:8080/",
          "height": 35
        },
        "id": "HGLKR_t9_oOs",
        "outputId": "f6485720-8a54-4d1b-8468-0a30c7a2a5fe"
      },
      "outputs": [],
      "source": [
        "from collections.abc import Iterable\n",
        "import random\n",
        "\n",
        "model_id = f\"phishing-email-classifier-{random.randint(10000, 99999)}\"\n",
        "\n",
        "tuning_operation = genai.create_tuned_model(\n",
        "    \"models/gemini-1.5-flash-001-tuning\",\n",
        "    training_data=train.sample(512),\n",
        "    input_key=\"Email Text\",\n",
        "    output_key=\"Email Type\",\n",
        "    id=model_id,\n",
        "    display_name=\"Phishing Email Classification Model\",\n",
        "    batch_size=4,\n",
        "    epoch_count=20,\n",
        "    learning_rate=0.001,\n",
        ")\n",
        "\n",
        "print(model_id)"
      ]
    },
    {
      "cell_type": "code",
      "execution_count": null,
      "metadata": {
        "colab": {
          "base_uri": "https://localhost:8080/",
          "height": 666
        },
        "id": "we4Ulth0AEC0",
        "outputId": "077ea5ea-ad4d-4530-9392-38e70863f935"
      },
      "outputs": [],
      "source": [
        "import time\n",
        "import seaborn as sns\n",
        "\n",
        "\n",
        "while (tuned_model := genai.get_tuned_model(f\"tunedModels/{model_id}\")).state.name != 'ACTIVE':\n",
        "\n",
        "    if tuned_model.tuning_task.snapshots:\n",
        "        snapshots = pd.DataFrame(tuned_model.tuning_task.snapshots)\n",
        "        sns.lineplot(data=snapshots, x=\"step\", y=\"mean_loss\")\n",
        "\n",
        "    print(tuned_model.state)\n",
        "\n",
        "    time.sleep(60)\n",
        "\n",
        "print(f\"Done! The model is {tuned_model.state.name}\")"
      ]
    },
    {
      "cell_type": "code",
      "execution_count": null,
      "metadata": {
        "colab": {
          "base_uri": "https://localhost:8080/",
          "height": 570,
          "referenced_widgets": [
            "4a4eecaa223d4cbca0767bedd6335738",
            "a3e846332a7845de800039426636af4a"
          ]
        },
        "id": "cW9KN2AGAPT8",
        "outputId": "3907b836-c576-4bac-fc19-a833f56acec9"
      },
      "outputs": [],
      "source": [
        "your_model = genai.GenerativeModel(f\"tunedModels/{model_id}\")\n",
        "\n",
        "import vertexai\n",
        "\n",
        "from vertexai.generative_models import (\n",
        "    GenerativeModel,\n",
        "    HarmCategory,\n",
        "    HarmBlockThreshold,\n",
        "    Part,\n",
        "    SafetySetting,\n",
        ")\n",
        "\n",
        "safety_config = {\n",
        "            'HATE': 'BLOCK_NONE',\n",
        "            'HARASSMENT': 'BLOCK_NONE',\n",
        "            'SEXUAL' : 'BLOCK_NONE',\n",
        "            'DANGEROUS' : 'BLOCK_NONE'\n",
        "}\n",
        "\n",
        "def classify_email(text: str) -> str:\n",
        "    response = your_model.generate_content(text, request_options=retry_policy, safety_settings=safety_config)\n",
        "    rc = response.candidates[0]\n",
        "\n",
        "    if rc.finish_reason.name != \"STOP\":\n",
        "        return \"(error)\"\n",
        "    else:\n",
        "        return rc.content.parts[0].text\n",
        "\n",
        "df_model_eval = test.sample(64)\n",
        "\n",
        "\n",
        "df_model_eval[\"Prediction\"] = df_model_eval[\"Email Text\"].progress_apply(classify_email)\n",
        "\n",
        "accuracy = (df_model_eval[\"Email Type\"] == df_model_eval[\"Prediction\"]).sum() / len(df_model_eval)\n",
        "print(f\"Accuracy: {accuracy:.2%}\")"
      ]
    },
    {
      "cell_type": "code",
      "execution_count": null,
      "metadata": {
        "colab": {
          "base_uri": "https://localhost:8080/"
        },
        "id": "cYL5LlRihlhP",
        "outputId": "c589b217-e140-4ea4-c86d-17aca19d7515"
      },
      "outputs": [],
      "source": [
        "TP = ((df_model_eval[\"Email Type\"] == \"Phishing Email\") & (df_model_eval[\"Prediction\"] == \"Phishing Email\")).sum()\n",
        "TN = ((df_model_eval[\"Email Type\"] == \"Safe Email\") & (df_model_eval[\"Prediction\"] == \"Safe Email\")).sum()\n",
        "FP = ((df_model_eval[\"Email Type\"] == \"Safe Email\") & (df_model_eval[\"Prediction\"] == \"Phishing Email\")).sum()\n",
        "FN = ((df_model_eval[\"Email Type\"] == \"Phishing Email\") & (df_model_eval[\"Prediction\"] == \"Safe Email\")).sum()\n",
        "\n",
        "precision = TP / (TP + FP)\n",
        "recall = TP / (TP + FN)\n",
        "f1_score = 2 * (precision * recall) / (precision + recall)\n",
        "accuracy = (df_model_eval[\"Email Type\"] == df_model_eval[\"Prediction\"]).sum() / len(df_model_eval)\n",
        "\n",
        "print(f\"Accuracy: {accuracy:.2%}\")\n",
        "print(f\"precision: {precision:.2%}\")\n",
        "print(f\"recall: {recall:.2%}\")\n",
        "print(f\"f1_score: {f1_score}\")"
      ]
    }
  ],
  "metadata": {
    "colab": {
      "provenance": []
    },
    "kernelspec": {
      "display_name": "Python 3",
      "name": "python3"
    },
    "language_info": {
      "name": "python"
    },
    "widgets": {
      "application/vnd.jupyter.widget-state+json": {
        "4a4eecaa223d4cbca0767bedd6335738": {
          "model_module": "@jupyter-widgets/output",
          "model_module_version": "1.0.0",
          "model_name": "OutputModel",
          "state": {
            "_dom_classes": [],
            "_model_module": "@jupyter-widgets/output",
            "_model_module_version": "1.0.0",
            "_model_name": "OutputModel",
            "_view_count": null,
            "_view_module": "@jupyter-widgets/output",
            "_view_module_version": "1.0.0",
            "_view_name": "OutputView",
            "layout": "IPY_MODEL_a3e846332a7845de800039426636af4a",
            "msg_id": "",
            "outputs": [
              {
                "data": {
                  "text/html": "<pre style=\"white-space:pre;overflow-x:auto;line-height:normal;font-family:Menlo,'DejaVu Sans Mono',consolas,'Courier New',monospace\"><span style=\"color: #800080; text-decoration-color: #800080\"> 100%</span> <span style=\"color: #729c1f; text-decoration-color: #729c1f\">━━━━━━━━━━━━━━━━━━━━━━━━━━━━━━━━━━━━━━━━━━━━━━━━━━━━━━━━━━━━━━━━━━━━━━━</span> <span style=\"color: #008000; text-decoration-color: #008000\">64/64 </span> [ <span style=\"color: #808000; text-decoration-color: #808000\">0:03:11</span> &lt; <span style=\"color: #008080; text-decoration-color: #008080\">0:00:00</span> , <span style=\"color: #800000; text-decoration-color: #800000\">0 it/s</span> ]\n</pre>\n",
                  "text/plain": "\u001b[35m 100%\u001b[0m \u001b[38;2;114;156;31m━━━━━━━━━━━━━━━━━━━━━━━━━━━━━━━━━━━━━━━━━━━━━━━━━━━━━━━━━━━━━━━━━━━━━━━\u001b[0m \u001b[32m64/64 \u001b[0m [ \u001b[33m0:03:11\u001b[0m < \u001b[36m0:00:00\u001b[0m , \u001b[31m0 it/s\u001b[0m ]\n"
                },
                "metadata": {},
                "output_type": "display_data"
              }
            ]
          }
        },
        "4ea7cc6164234563bb97a8d9b9a14787": {
          "model_module": "@jupyter-widgets/output",
          "model_module_version": "1.0.0",
          "model_name": "OutputModel",
          "state": {
            "_dom_classes": [],
            "_model_module": "@jupyter-widgets/output",
            "_model_module_version": "1.0.0",
            "_model_name": "OutputModel",
            "_view_count": null,
            "_view_module": "@jupyter-widgets/output",
            "_view_module_version": "1.0.0",
            "_view_name": "OutputView",
            "layout": "IPY_MODEL_742920bd29384445b1fd550db78555b7",
            "msg_id": "",
            "outputs": [
              {
                "data": {
                  "text/html": "<pre style=\"white-space:pre;overflow-x:auto;line-height:normal;font-family:Menlo,'DejaVu Sans Mono',consolas,'Courier New',monospace\"><span style=\"color: #800080; text-decoration-color: #800080\"> 100%</span> <span style=\"color: #729c1f; text-decoration-color: #729c1f\">━━━━━━━━━━━━━━━━━━━━━━━━━━━━━━━━━━━━━━━━━━━━━━━━━━━━━━━━━━━━━━━━━━━━━━━</span> <span style=\"color: #008000; text-decoration-color: #008000\">64/64 </span> [ <span style=\"color: #808000; text-decoration-color: #808000\">0:02:35</span> &lt; <span style=\"color: #008080; text-decoration-color: #008080\">0:00:00</span> , <span style=\"color: #800000; text-decoration-color: #800000\">1 it/s</span> ]\n</pre>\n",
                  "text/plain": "\u001b[35m 100%\u001b[0m \u001b[38;2;114;156;31m━━━━━━━━━━━━━━━━━━━━━━━━━━━━━━━━━━━━━━━━━━━━━━━━━━━━━━━━━━━━━━━━━━━━━━━\u001b[0m \u001b[32m64/64 \u001b[0m [ \u001b[33m0:02:35\u001b[0m < \u001b[36m0:00:00\u001b[0m , \u001b[31m1 it/s\u001b[0m ]\n"
                },
                "metadata": {},
                "output_type": "display_data"
              }
            ]
          }
        },
        "742920bd29384445b1fd550db78555b7": {
          "model_module": "@jupyter-widgets/base",
          "model_module_version": "1.2.0",
          "model_name": "LayoutModel",
          "state": {
            "_model_module": "@jupyter-widgets/base",
            "_model_module_version": "1.2.0",
            "_model_name": "LayoutModel",
            "_view_count": null,
            "_view_module": "@jupyter-widgets/base",
            "_view_module_version": "1.2.0",
            "_view_name": "LayoutView",
            "align_content": null,
            "align_items": null,
            "align_self": null,
            "border": null,
            "bottom": null,
            "display": null,
            "flex": null,
            "flex_flow": null,
            "grid_area": null,
            "grid_auto_columns": null,
            "grid_auto_flow": null,
            "grid_auto_rows": null,
            "grid_column": null,
            "grid_gap": null,
            "grid_row": null,
            "grid_template_areas": null,
            "grid_template_columns": null,
            "grid_template_rows": null,
            "height": null,
            "justify_content": null,
            "justify_items": null,
            "left": null,
            "margin": null,
            "max_height": null,
            "max_width": null,
            "min_height": null,
            "min_width": null,
            "object_fit": null,
            "object_position": null,
            "order": null,
            "overflow": null,
            "overflow_x": null,
            "overflow_y": null,
            "padding": null,
            "right": null,
            "top": null,
            "visibility": null,
            "width": null
          }
        },
        "a3e846332a7845de800039426636af4a": {
          "model_module": "@jupyter-widgets/base",
          "model_module_version": "1.2.0",
          "model_name": "LayoutModel",
          "state": {
            "_model_module": "@jupyter-widgets/base",
            "_model_module_version": "1.2.0",
            "_model_name": "LayoutModel",
            "_view_count": null,
            "_view_module": "@jupyter-widgets/base",
            "_view_module_version": "1.2.0",
            "_view_name": "LayoutView",
            "align_content": null,
            "align_items": null,
            "align_self": null,
            "border": null,
            "bottom": null,
            "display": null,
            "flex": null,
            "flex_flow": null,
            "grid_area": null,
            "grid_auto_columns": null,
            "grid_auto_flow": null,
            "grid_auto_rows": null,
            "grid_column": null,
            "grid_gap": null,
            "grid_row": null,
            "grid_template_areas": null,
            "grid_template_columns": null,
            "grid_template_rows": null,
            "height": null,
            "justify_content": null,
            "justify_items": null,
            "left": null,
            "margin": null,
            "max_height": null,
            "max_width": null,
            "min_height": null,
            "min_width": null,
            "object_fit": null,
            "object_position": null,
            "order": null,
            "overflow": null,
            "overflow_x": null,
            "overflow_y": null,
            "padding": null,
            "right": null,
            "top": null,
            "visibility": null,
            "width": null
          }
        }
      }
    }
  },
  "nbformat": 4,
  "nbformat_minor": 0
}
